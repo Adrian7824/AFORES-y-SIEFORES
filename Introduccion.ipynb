{
 "cells": [
  {
   "cell_type": "markdown",
   "metadata": {},
   "source": [
    "# Afore y Siefores"
   ]
  },
  {
   "cell_type": "markdown",
   "metadata": {},
   "source": [
    "La idea de esta investigacion es descubrir como manejan el dinero las SIEFORES para crear una reserva para nuestro retiro, ademas de tener una idea más profunda acerca de la eleccion de la SIEFORE 'correcto', ya que esto varia las preferencias del usuario.\n",
    "Los trabajadores tienen la opción de elegir la AFORE y la SIEFORE que administre sus ahorros para el retiro, basándose en factores como rendimiento histórico, servicios ofrecidos y comisiones."
   ]
  },
  {
   "cell_type": "markdown",
   "metadata": {},
   "source": [
    "### ¿Qué es un Siefore?"
   ]
  },
  {
   "cell_type": "markdown",
   "metadata": {},
   "source": [
    "La CONSAR menciona que una SIEFORE es el fondo de inversión en el cual las AFORE invierten los recursos de los trabajadores para generar rendimientos.\n",
    "\n",
    "Las SIEFORES son fondos de inversión que administran las aportaciones de los trabajadores afiliados al Instituto Mexicano del Seguro Social (IMSS) y al Instituto de Seguridad y Servicios Sociales de los Trabajadores del Estado (ISSSTE). Están diseñadas para optimizar el rendimiento de los ahorros para el retiro de los trabajadores en México."
   ]
  },
  {
   "cell_type": "markdown",
   "metadata": {},
   "source": [
    "Su principal objetivo es generar rendimientos sobre las aportaciones realizadas por los trabajadores a lo largo de su vida laboral, para así incrementar el monto que recibirán al momento de su jubilación.\n",
    " Existen varios tipos de SIEFORES, cada una enfocada en un grupo de edad específico (Generacion). Esto permite una gestión de inversiones acorde a la edad y el horizonte de tiempo para el retiro de cada trabajador. Las inversiones son más arriesgadas para los trabajadores más jóvenes y se vuelven más conservadoras a medida que se acercan a la edad de retiro."
   ]
  },
  {
   "cell_type": "markdown",
   "metadata": {},
   "source": [
    "Las SIEFORES invierten en una variedad de instrumentos financieros, incluyendo deuda gubernamental, deuda corporativa, acciones, y en algunos casos, en instrumentos internacionales. El objetivo es diversificar el riesgo y buscar un equilibrio entre seguridad y rentabilidad.\n",
    "Los rendimientos de las SIEFORES varían según el tipo de inversión y las condiciones del mercado. Aunque buscan maximizar los rendimientos para los afiliados, también están sujetas a riesgos de mercado"
   ]
  },
  {
   "cell_type": "markdown",
   "metadata": {},
   "source": [
    "La CONSAR es la encargada de regular y supervisar las operaciones de las AFORES y SIEFORES, asegurando que se cumplan las normativas de inversión y se protejan los intereses de los trabajadores."
   ]
  },
  {
   "cell_type": "markdown",
   "metadata": {},
   "source": [
    "### Las AFORE"
   ]
  },
  {
   "cell_type": "markdown",
   "metadata": {},
   "source": [
    "Según la Asociación Mexicana de Afores (Amafore), “Las Afores son entidades financieras dedicadas de manera exclusiva y profesional a administrar las cuentas individuales de ahorro para el retiro de los trabajadores las cuales deben contar con la autorización de la Secretaría de Hacienda y Crédito Público y están sujetas a la regulación de la Consar”."
   ]
  },
  {
   "cell_type": "markdown",
   "metadata": {},
   "source": [
    "Nota: Existe Medidor de Atributos y Servicios de las AFORE (+MAS AFORE) que tiene la finalidad de que las y los trabajadores cuenten con mayor información al momento  de elegir la Administradora de Fondos para el Retiro (AFORE) que administrará sus ahorros, la Comisión Nacional del Sistema de Ahorro para el Retiro (CONSAR) implementó +MAS AFORE. La metodologia para evaluar es la siguiente:"
   ]
  },
  {
   "cell_type": "markdown",
   "metadata": {},
   "source": [
    "#### Calidad operativa\n",
    "- Mide el tiempo que la AFORE tarda en atender y concluir 15 servicios. Únicamente se considera el tiempo que es responsabilidad de las Administradoras. \n",
    "- También toma en cuenta la calidad con la que la AFORE brinda los servicios a las  y los trabajadores, con base en una referencia de la propia industria.\n",
    "\n",
    "    ##### Subindicadores\n",
    "    - Tiempo de ejeucion\n",
    "    - Servicios concluidos vs Servicios solicitados\n",
    "    - Traspasos mal gestionados\n",
    "\n",
    "#### Cobertura\n",
    "-  Mide la cobertura para la atención al público, a través de la distribución de sucursales en la República Mexicana y de canales de atención no presenciales.\n",
    "\n",
    "    ##### Subindicadores\n",
    "    - Sucursales\n",
    "    - Centros de Atencion Telefonica (CAT)\n",
    "    - Servicios en linea\n",
    "    - Servicios móviles\n",
    "\n",
    "#### Ahorro Voluntario y Solidario\n",
    "-  Mide el número de aportaciones voluntarias y el número de trabajadores que realizaron Ahorro Voluntario (ventanilla), con base en el comportamiento de la industria\n",
    "- Considera tanto a las y los trabajadores que realizaron aportaciones de Ahorro Solidario como a los que realizaron aportaciones voluntarias por primera vez.\n",
    "\n",
    "    ##### Subindicadores\n",
    "    - Desempeño en Ahorro Voluntario Y Ahorro Solidario\n",
    "    - Nuevos ahorradores\n",
    "\n",
    "#### Portal e-SAR\n",
    "-  Mide la atencion que la AFORE brinda a las oslicitudes que las y los trabajadores ingfresaron a traves del portal e-SAR, basados en una referencia de la industria."
   ]
  },
  {
   "cell_type": "markdown",
   "metadata": {},
   "source": [
    "## AFORES\n",
    "###### Nota: los valores no son puntos sino el lugar que obtuvieron\n",
    "- ### Profuturo \n",
    "    Cobra la comision estandar de 0.57 sobre saldo administrado\n",
    "    El +MAS AFORE la posiciono como la numero 1 con una calidad operativa de 10, cobertura de 7, Ahorro voluntario de 1 y Servicios e-SAR de 8\n",
    "\n",
    "- ### Invercap\n",
    "    Cobra la comision estandar de 0.57 sobre saldo administrado\n",
    "    El +MAS AFORE la posiciono como la numero 2 con una calidad operativa de 8, cobertura de 4, Ahorro voluntario de 2 y Servicios e-SAR de 6\n",
    "\n",
    "- ### SURA\n",
    "    Cobra la comision estandar de 0.57 sobre saldo administrado\n",
    "    El +MAS AFORE la posiciono como la numero 3 con una calidad operativa de 3, cobertura de 8, Ahorro voluntario de 3 y Servicios e-SAR de 3\n",
    "\n",
    "- ### XXI Banorte\n",
    "    Cobra la comision estandar de 0.57 sobre saldo administrado\n",
    "    El +MAS AFORE la posiciono como la numero 4 con una calidad operativa de 7, cobertura de 6, Ahorro voluntario de 5 y Servicios e-SAR de 2\n",
    "\n",
    "- ### Azteca\n",
    "    Cobra la comision estandar de 0.57 sobre saldo administrado\n",
    "    El +MAS AFORE la posiciono como la numero 5 con una calidad operativa de 4, cobertura de 1, Ahorro voluntario de 8 y Servicios e-SAR de 10\n",
    "\n",
    "- ### Citibanamex\n",
    "    Cobra la comision estandar de 0.57 sobre saldo administrado\n",
    "    El +MAS AFORE la posiciono como la numero 6 con una calidad operativa de 5, cobertura de 9, Ahorro voluntario de 6 y Servicios e-SAR de 4\n",
    "\n",
    "- ### Inbursa\n",
    "    Cobra la comision estandar de 0.57 sobre saldo administrado\n",
    "    El +MAS AFORE la posiciono como la numero 7 con una calidad operativa de 9, cobertura de 3, Ahorro voluntario de 9 y Servicios e-SAR de 1\n",
    "\n",
    "- ### Principal\n",
    "    Cobra la comision estandar de 0.57 sobre saldo administrado\n",
    "    El +MAS AFORE la posiciono como la numero 8 con una calidad operativa de 6, cobertura de 10, Ahorro voluntario de 4 y Servicios e-SAR de 7\n",
    "\n",
    "- ### Coppel\n",
    "    Cobra la segunda comision más baja con 0.566 sobre saldo administrado, pero en 2021 pidio subir su comision a 0.73 la cual se denego por considerarse abusiva.\n",
    "    El +MAS AFORE la posiciono como la numero 9 con una calidad operativa de 2, cobertura de 2, Ahorro voluntario de 10 y Servicios e-SAR de 5\n",
    "\n",
    "- ### PensionISSSTE\n",
    "    Al ser el AFORE publico cobra la comision más baja de 0.53 sobre saldo administrado\n",
    "    El +MAS AFORE la posiciono como la numero 10 con una calidad operativa de 1, cobertura de 5, Ahorro voluntario de 7 y Servicios e-SAR de 9\n"
   ]
  },
  {
   "cell_type": "markdown",
   "metadata": {},
   "source": [
    "Los datos de +MAS AFORES son del 2021, fueron publicados en 2022, por lo que no son datos tan actualizados\n",
    "Los datos de comisiones son del 2023, son los datos más recientes publicados por la CONSAR"
   ]
  },
  {
   "cell_type": "markdown",
   "metadata": {},
   "source": [
    "Te dejo una calculadore de pension para el retiro que proporciona el gobierno, por si tienes dudas acerca de como se vera tu posible pension para el retiro.\n",
    "\n",
    "Si esta en el IMSS: https://www.consar.gob.mx/gobmx/Aplicativo/calculadora/imss/CalculadoraIMSS.aspx\n",
    "\n",
    "Si esta en el ISSSTE: https://www.consar.gob.mx/gobmx/Aplicativo/calculadora/independientes/CalculadoraIndi.aspx\n",
    "\n",
    "Si es independiente: https://www.consar.gob.mx/gobmx/Aplicativo/calculadora/independientes/CalculadoraIndi.aspx"
   ]
  },
  {
   "cell_type": "markdown",
   "metadata": {},
   "source": [
    "En la carpeta encontraremos las distintas siefores y unas graficas que muestran sus rendimientos y como divesifican las inversiones."
   ]
  }
 ],
 "metadata": {
  "kernelspec": {
   "display_name": "cartera--pLahIbw",
   "language": "python",
   "name": "python3"
  },
  "language_info": {
   "codemirror_mode": {
    "name": "ipython",
    "version": 3
   },
   "file_extension": ".py",
   "mimetype": "text/x-python",
   "name": "python",
   "nbconvert_exporter": "python",
   "pygments_lexer": "ipython3",
   "version": "3.10.11"
  }
 },
 "nbformat": 4,
 "nbformat_minor": 2
}
